{
 "cells": [
  {
   "cell_type": "code",
   "execution_count": 1,
   "id": "c17c3e97",
   "metadata": {},
   "outputs": [],
   "source": [
    "import pandas as pd"
   ]
  },
  {
   "cell_type": "code",
   "execution_count": 2,
   "id": "3e151520",
   "metadata": {},
   "outputs": [],
   "source": [
    "df = pd.read_parquet('/workspaces/mlops-zoomcamp/02-experiment-tracking/homework/data/green_tripdata_2023-02.parquet')"
   ]
  },
  {
   "cell_type": "code",
   "execution_count": 3,
   "id": "3be8d8e3",
   "metadata": {},
   "outputs": [
    {
     "data": {
      "text/plain": [
       "(64809, 20)"
      ]
     },
     "execution_count": 3,
     "metadata": {},
     "output_type": "execute_result"
    }
   ],
   "source": [
    "df.shape"
   ]
  },
  {
   "cell_type": "code",
   "execution_count": 4,
   "id": "44c578de",
   "metadata": {},
   "outputs": [],
   "source": [
    "import mlflow\n",
    "mlflow.set_tracking_uri(\"http://0.0.0.0:5000\")\n"
   ]
  },
  {
   "cell_type": "code",
   "execution_count": 5,
   "id": "37d2db70",
   "metadata": {},
   "outputs": [
    {
     "data": {
      "text/plain": [
       "[<Experiment: artifact_location='file:///workspaces/mlops-zoomcamp/02-experiment-tracking/homework/artifacts/1', creation_time=1748460847914, experiment_id='1', last_update_time=1748460847914, lifecycle_stage='active', name='random-forest-train', tags={}>,\n",
       " <Experiment: artifact_location='file:///workspaces/mlops-zoomcamp/02-experiment-tracking/homework/artifacts/0', creation_time=1748460403198, experiment_id='0', last_update_time=1748460403198, lifecycle_stage='active', name='Default', tags={}>]"
      ]
     },
     "execution_count": 5,
     "metadata": {},
     "output_type": "execute_result"
    }
   ],
   "source": [
    "mlflow.search_experiments ()"
   ]
  },
  {
   "cell_type": "code",
   "execution_count": 6,
   "id": "b8d2ab2c",
   "metadata": {},
   "outputs": [
    {
     "data": {
      "text/plain": [
       "<Experiment: artifact_location='file:///workspaces/mlops-zoomcamp/02-experiment-tracking/homework/artifacts/1', creation_time=1748460847914, experiment_id='1', last_update_time=1748460847914, lifecycle_stage='active', name='random-forest-train', tags={}>"
      ]
     },
     "execution_count": 6,
     "metadata": {},
     "output_type": "execute_result"
    }
   ],
   "source": [
    "mlflow.set_experiment(\"random-forest-train\")"
   ]
  },
  {
   "cell_type": "code",
   "execution_count": 7,
   "id": "0ed3974a",
   "metadata": {},
   "outputs": [
    {
     "data": {
      "text/plain": [
       "[<Experiment: artifact_location='file:///workspaces/mlops-zoomcamp/02-experiment-tracking/homework/artifacts/1', creation_time=1748460847914, experiment_id='1', last_update_time=1748460847914, lifecycle_stage='active', name='random-forest-train', tags={}>,\n",
       " <Experiment: artifact_location='file:///workspaces/mlops-zoomcamp/02-experiment-tracking/homework/artifacts/0', creation_time=1748460403198, experiment_id='0', last_update_time=1748460403198, lifecycle_stage='active', name='Default', tags={}>]"
      ]
     },
     "execution_count": 7,
     "metadata": {},
     "output_type": "execute_result"
    }
   ],
   "source": [
    "mlflow.search_experiments ()"
   ]
  },
  {
   "cell_type": "code",
   "execution_count": 8,
   "id": "d52189f0",
   "metadata": {},
   "outputs": [],
   "source": [
    "import os\n",
    "import pickle\n",
    "import click\n",
    "\n"
   ]
  },
  {
   "cell_type": "code",
   "execution_count": 9,
   "id": "3861ee3b",
   "metadata": {},
   "outputs": [],
   "source": [
    "data_path='/workspaces/mlops-zoomcamp/02-experiment-tracking/homework/output/'"
   ]
  },
  {
   "cell_type": "code",
   "execution_count": 10,
   "id": "6e434f25",
   "metadata": {},
   "outputs": [],
   "source": [
    "def load_pickle(filename: str):\n",
    "    with open(filename, \"rb\") as f_in:\n",
    "        return pickle.load(f_in)"
   ]
  },
  {
   "cell_type": "code",
   "execution_count": null,
   "id": "72aef928",
   "metadata": {},
   "outputs": [],
   "source": [
    "def run_train(data_path: str):\n",
    "    X_train, y_train = load_pickle(os.path.join(data_path, \"train.pkl\"))\n",
    "    X_val, y_val = load_pickle(os.path.join(data_path, \"val.pkl\"))\n",
    "\n",
    "    with mlflow.start_run():\n",
    "        rf = RandomForestRegressor(max_depth=10, random_state=0)\n",
    "        rf.fit(X_train, y_train)\n",
    "        y_pred = rf.predict(X_val)\n",
    "\n",
    "        \n",
    "        rmse = root_mean_squared_error(y_val, y_pred)\n",
    "        "
   ]
  },
  {
   "cell_type": "code",
   "execution_count": 15,
   "id": "d45a3f4d",
   "metadata": {},
   "outputs": [],
   "source": [
    "from sklearn.ensemble import RandomForestRegressor\n",
    "from sklearn.metrics import root_mean_squared_error"
   ]
  },
  {
   "cell_type": "code",
   "execution_count": 16,
   "id": "53136e4e",
   "metadata": {},
   "outputs": [
    {
     "name": "stderr",
     "output_type": "stream",
     "text": [
      "/tmp/ipykernel_14480/2183793696.py:3: DeprecationWarning: Please import `csr_matrix` from the `scipy.sparse` namespace; the `scipy.sparse.csr` namespace is deprecated and will be removed in SciPy 2.0.0.\n",
      "  return pickle.load(f_in)\n"
     ]
    },
    {
     "name": "stdout",
     "output_type": "stream",
     "text": [
      "🏃 View run colorful-frog-611 at: http://0.0.0.0:5000/#/experiments/1/runs/27e6feba4ebf41acb379386c3438aa04\n",
      "🧪 View experiment at: http://0.0.0.0:5000/#/experiments/1\n"
     ]
    }
   ],
   "source": [
    "run_train(data_path)"
   ]
  }
 ],
 "metadata": {
  "kernelspec": {
   "display_name": "Python 3",
   "language": "python",
   "name": "python3"
  },
  "language_info": {
   "codemirror_mode": {
    "name": "ipython",
    "version": 3
   },
   "file_extension": ".py",
   "mimetype": "text/x-python",
   "name": "python",
   "nbconvert_exporter": "python",
   "pygments_lexer": "ipython3",
   "version": "3.9.21"
  }
 },
 "nbformat": 4,
 "nbformat_minor": 5
}
